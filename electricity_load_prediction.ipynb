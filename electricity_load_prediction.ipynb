{
  "nbformat": 4,
  "nbformat_minor": 0,
  "metadata": {
    "colab": {
      "provenance": [],
      "authorship_tag": "ABX9TyOo9czn9JMU2A/XGPZN1Qnc",
      "include_colab_link": true
    },
    "kernelspec": {
      "name": "python3",
      "display_name": "Python 3"
    },
    "language_info": {
      "name": "python"
    }
  },
  "cells": [
    {
      "cell_type": "markdown",
      "metadata": {
        "id": "view-in-github",
        "colab_type": "text"
      },
      "source": [
        "<a href=\"https://colab.research.google.com/github/mohammedzmar/electricity_load_forecasting_using_LSTM_RNN/blob/main/electricity_load_prediction.ipynb\" target=\"_parent\"><img src=\"https://colab.research.google.com/assets/colab-badge.svg\" alt=\"Open In Colab\"/></a>"
      ]
    },
    {
      "cell_type": "markdown",
      "source": [
        "### **Electricity load Prediction using LSTM & RNN**\n"
      ],
      "metadata": {
        "id": "hNu3zMBbELiW"
      }
    },
    {
      "cell_type": "code",
      "execution_count": null,
      "metadata": {
        "id": "h4rKApjDrj2c"
      },
      "outputs": [],
      "source": [
        "import pandas as pd\n",
        "import numpy as np\n",
        "import matplotlib.pyplot as plt\n",
        "import tensorflow as tf\n",
        "from tensorflow import keras\n",
        "from keras.layers import Dense,LSTM,Dropout,SimpleRNN\n",
        "from keras.models import Sequential \n",
        "from sklearn.preprocessing import MinMaxScaler\n",
        "from sklearn.metrics import r2_score\n",
        "from sklearn.metrics import mean_absolute_error as mae\n",
        "from sklearn.metrics import mean_squared_error"
      ]
    },
    {
      "cell_type": "markdown",
      "source": [
        "### **Dataset**\n"
      ],
      "metadata": {
        "id": "JPFkr9kCG85E"
      }
    },
    {
      "cell_type": "code",
      "source": [
        "data = pd.read_excel('demand.xlsx',usecols='A')"
      ],
      "metadata": {
        "id": "7rRkEL6xtHhM"
      },
      "execution_count": null,
      "outputs": []
    },
    {
      "cell_type": "code",
      "source": [
        "data\n"
      ],
      "metadata": {
        "colab": {
          "base_uri": "https://localhost:8080/",
          "height": 424
        },
        "id": "wm3GPhx6s75J",
        "outputId": "35afbad5-20a2-466f-8877-c65e7e5b541c"
      },
      "execution_count": null,
      "outputs": [
        {
          "output_type": "execute_result",
          "data": {
            "text/plain": [
              "       load_forecast\n",
              "0             1056.9\n",
              "1             1057.1\n",
              "2              996.5\n",
              "3              955.8\n",
              "4              918.0\n",
              "...              ...\n",
              "40147         1181.4\n",
              "40148         1196.8\n",
              "40149         1163.3\n",
              "40150         1136.0\n",
              "40151         1297.2\n",
              "\n",
              "[40152 rows x 1 columns]"
            ],
            "text/html": [
              "\n",
              "  <div id=\"df-5974c3b7-cfb3-4a6b-889c-dfa1b0126950\">\n",
              "    <div class=\"colab-df-container\">\n",
              "      <div>\n",
              "<style scoped>\n",
              "    .dataframe tbody tr th:only-of-type {\n",
              "        vertical-align: middle;\n",
              "    }\n",
              "\n",
              "    .dataframe tbody tr th {\n",
              "        vertical-align: top;\n",
              "    }\n",
              "\n",
              "    .dataframe thead th {\n",
              "        text-align: right;\n",
              "    }\n",
              "</style>\n",
              "<table border=\"1\" class=\"dataframe\">\n",
              "  <thead>\n",
              "    <tr style=\"text-align: right;\">\n",
              "      <th></th>\n",
              "      <th>load_forecast</th>\n",
              "    </tr>\n",
              "  </thead>\n",
              "  <tbody>\n",
              "    <tr>\n",
              "      <th>0</th>\n",
              "      <td>1056.9</td>\n",
              "    </tr>\n",
              "    <tr>\n",
              "      <th>1</th>\n",
              "      <td>1057.1</td>\n",
              "    </tr>\n",
              "    <tr>\n",
              "      <th>2</th>\n",
              "      <td>996.5</td>\n",
              "    </tr>\n",
              "    <tr>\n",
              "      <th>3</th>\n",
              "      <td>955.8</td>\n",
              "    </tr>\n",
              "    <tr>\n",
              "      <th>4</th>\n",
              "      <td>918.0</td>\n",
              "    </tr>\n",
              "    <tr>\n",
              "      <th>...</th>\n",
              "      <td>...</td>\n",
              "    </tr>\n",
              "    <tr>\n",
              "      <th>40147</th>\n",
              "      <td>1181.4</td>\n",
              "    </tr>\n",
              "    <tr>\n",
              "      <th>40148</th>\n",
              "      <td>1196.8</td>\n",
              "    </tr>\n",
              "    <tr>\n",
              "      <th>40149</th>\n",
              "      <td>1163.3</td>\n",
              "    </tr>\n",
              "    <tr>\n",
              "      <th>40150</th>\n",
              "      <td>1136.0</td>\n",
              "    </tr>\n",
              "    <tr>\n",
              "      <th>40151</th>\n",
              "      <td>1297.2</td>\n",
              "    </tr>\n",
              "  </tbody>\n",
              "</table>\n",
              "<p>40152 rows × 1 columns</p>\n",
              "</div>\n",
              "      <button class=\"colab-df-convert\" onclick=\"convertToInteractive('df-5974c3b7-cfb3-4a6b-889c-dfa1b0126950')\"\n",
              "              title=\"Convert this dataframe to an interactive table.\"\n",
              "              style=\"display:none;\">\n",
              "        \n",
              "  <svg xmlns=\"http://www.w3.org/2000/svg\" height=\"24px\"viewBox=\"0 0 24 24\"\n",
              "       width=\"24px\">\n",
              "    <path d=\"M0 0h24v24H0V0z\" fill=\"none\"/>\n",
              "    <path d=\"M18.56 5.44l.94 2.06.94-2.06 2.06-.94-2.06-.94-.94-2.06-.94 2.06-2.06.94zm-11 1L8.5 8.5l.94-2.06 2.06-.94-2.06-.94L8.5 2.5l-.94 2.06-2.06.94zm10 10l.94 2.06.94-2.06 2.06-.94-2.06-.94-.94-2.06-.94 2.06-2.06.94z\"/><path d=\"M17.41 7.96l-1.37-1.37c-.4-.4-.92-.59-1.43-.59-.52 0-1.04.2-1.43.59L10.3 9.45l-7.72 7.72c-.78.78-.78 2.05 0 2.83L4 21.41c.39.39.9.59 1.41.59.51 0 1.02-.2 1.41-.59l7.78-7.78 2.81-2.81c.8-.78.8-2.07 0-2.86zM5.41 20L4 18.59l7.72-7.72 1.47 1.35L5.41 20z\"/>\n",
              "  </svg>\n",
              "      </button>\n",
              "      \n",
              "  <style>\n",
              "    .colab-df-container {\n",
              "      display:flex;\n",
              "      flex-wrap:wrap;\n",
              "      gap: 12px;\n",
              "    }\n",
              "\n",
              "    .colab-df-convert {\n",
              "      background-color: #E8F0FE;\n",
              "      border: none;\n",
              "      border-radius: 50%;\n",
              "      cursor: pointer;\n",
              "      display: none;\n",
              "      fill: #1967D2;\n",
              "      height: 32px;\n",
              "      padding: 0 0 0 0;\n",
              "      width: 32px;\n",
              "    }\n",
              "\n",
              "    .colab-df-convert:hover {\n",
              "      background-color: #E2EBFA;\n",
              "      box-shadow: 0px 1px 2px rgba(60, 64, 67, 0.3), 0px 1px 3px 1px rgba(60, 64, 67, 0.15);\n",
              "      fill: #174EA6;\n",
              "    }\n",
              "\n",
              "    [theme=dark] .colab-df-convert {\n",
              "      background-color: #3B4455;\n",
              "      fill: #D2E3FC;\n",
              "    }\n",
              "\n",
              "    [theme=dark] .colab-df-convert:hover {\n",
              "      background-color: #434B5C;\n",
              "      box-shadow: 0px 1px 3px 1px rgba(0, 0, 0, 0.15);\n",
              "      filter: drop-shadow(0px 1px 2px rgba(0, 0, 0, 0.3));\n",
              "      fill: #FFFFFF;\n",
              "    }\n",
              "  </style>\n",
              "\n",
              "      <script>\n",
              "        const buttonEl =\n",
              "          document.querySelector('#df-5974c3b7-cfb3-4a6b-889c-dfa1b0126950 button.colab-df-convert');\n",
              "        buttonEl.style.display =\n",
              "          google.colab.kernel.accessAllowed ? 'block' : 'none';\n",
              "\n",
              "        async function convertToInteractive(key) {\n",
              "          const element = document.querySelector('#df-5974c3b7-cfb3-4a6b-889c-dfa1b0126950');\n",
              "          const dataTable =\n",
              "            await google.colab.kernel.invokeFunction('convertToInteractive',\n",
              "                                                     [key], {});\n",
              "          if (!dataTable) return;\n",
              "\n",
              "          const docLinkHtml = 'Like what you see? Visit the ' +\n",
              "            '<a target=\"_blank\" href=https://colab.research.google.com/notebooks/data_table.ipynb>data table notebook</a>'\n",
              "            + ' to learn more about interactive tables.';\n",
              "          element.innerHTML = '';\n",
              "          dataTable['output_type'] = 'display_data';\n",
              "          await google.colab.output.renderOutput(dataTable, element);\n",
              "          const docLink = document.createElement('div');\n",
              "          docLink.innerHTML = docLinkHtml;\n",
              "          element.appendChild(docLink);\n",
              "        }\n",
              "      </script>\n",
              "    </div>\n",
              "  </div>\n",
              "  "
            ]
          },
          "metadata": {},
          "execution_count": 451
        }
      ]
    },
    {
      "cell_type": "code",
      "source": [
        "data=np.array(data).reshape(-1,1)"
      ],
      "metadata": {
        "id": "Q5bnoCw4ukMX"
      },
      "execution_count": null,
      "outputs": []
    },
    {
      "cell_type": "code",
      "source": [
        "plt.plot(data)\n",
        "plt.show()"
      ],
      "metadata": {
        "colab": {
          "base_uri": "https://localhost:8080/",
          "height": 265
        },
        "id": "ZozoSlWbu0mB",
        "outputId": "874ff075-9278-49fe-ae2e-242d5adcefa5"
      },
      "execution_count": null,
      "outputs": [
        {
          "output_type": "display_data",
          "data": {
            "text/plain": [
              "<Figure size 432x288 with 1 Axes>"
            ],
            "image/png": "[encoded data removed]"
          },
          "metadata": {
            "needs_background": "light"
          }
        }
      ]
    },
    {
      "cell_type": "code",
      "source": [
        "#normalization\n",
        "scaler = MinMaxScaler()\n",
        "data = scaler.fit_transform(data)"
      ],
      "metadata": {
        "id": "0__l3pnWu7yf"
      },
      "execution_count": null,
      "outputs": []
    },
    {
      "cell_type": "code",
      "source": [
        "len(data)# number of hours  "
      ],
      "metadata": {
        "colab": {
          "base_uri": "https://localhost:8080/"
        },
        "id": "uuNdC4DZu_s5",
        "outputId": "0573ef69-c200-48c2-d544-05159a3579ef"
      },
      "execution_count": null,
      "outputs": [
        {
          "output_type": "execute_result",
          "data": {
            "text/plain": [
              "40152"
            ]
          },
          "metadata": {},
          "execution_count": 455
        }
      ]
    },
    {
      "cell_type": "code",
      "source": [
        "train = data[0:32121,:] #80% of data for train\n",
        "test = data[32122:,:]# 20% of data for test"
      ],
      "metadata": {
        "id": "YrRqpTDUvGyx"
      },
      "execution_count": null,
      "outputs": []
    },
    {
      "cell_type": "code",
      "source": [
        "def get_data(data, steps):      \n",
        "    dataX = []\n",
        "    dataY = []\n",
        "    for i in range(len(data)-steps-1):\n",
        "        a = data[i:(i+steps), 0]\n",
        "        dataX.append(a)\n",
        "        dataY.append(data[i+steps, 0])\n",
        "    return np.array(dataX), np.array(dataY)"
      ],
      "metadata": {
        "id": "8RHHtDq5vSah"
      },
      "execution_count": null,
      "outputs": []
    },
    {
      "cell_type": "code",
      "source": [
        "#to look back for the 24 hours\n",
        "steps = 24"
      ],
      "metadata": {
        "id": "pHOBr-XXvX1u"
      },
      "execution_count": null,
      "outputs": []
    },
    {
      "cell_type": "code",
      "source": [
        "X_train, y_train = get_data(train, steps)\n",
        "X_test, y_test = get_data(test, steps)"
      ],
      "metadata": {
        "id": "8p9u_XX5va8g"
      },
      "execution_count": null,
      "outputs": []
    },
    {
      "cell_type": "code",
      "source": [
        "\n",
        "X_train = np.reshape(X_train, (X_train.shape[0], 1, X_train.shape[1]))\n",
        "X_test = np.reshape(X_test, (X_test.shape[0], 1, X_test.shape[1]))"
      ],
      "metadata": {
        "id": "zaa1z0PivcTS"
      },
      "execution_count": null,
      "outputs": []
    },
    {
      "cell_type": "markdown",
      "source": [
        "### **LSTM Model**"
      ],
      "metadata": {
        "id": "jqdS4_pFEjO2"
      }
    },
    {
      "cell_type": "code",
      "source": [
        "model = Sequential()\n",
        "model.add(LSTM(100,activation='ReLU',return_sequences=True, input_shape = (1, steps)))\n",
        "model.add(Dropout(0.2))  \n",
        "model.add(LSTM(80,activation='ReLU',return_sequences=True))\n",
        "model.add(Dropout(0.2))\n",
        "model.add(LSTM(50,activation='ReLU',return_sequences=True))\n",
        "model.add(Dropout(0.2))\n",
        "model.add(LSTM(30,activation='ReLU'))                                  \n",
        "model.add(Dense(1))   "
      ],
      "metadata": {
        "id": "zudqNdPEvfR8"
      },
      "execution_count": null,
      "outputs": []
    },
    {
      "cell_type": "code",
      "source": [
        "model.summary()"
      ],
      "metadata": {
        "colab": {
          "base_uri": "https://localhost:8080/"
        },
        "id": "59LoMixUvmfZ",
        "outputId": "242d49d2-8c6a-4103-84eb-d73829a08802"
      },
      "execution_count": null,
      "outputs": [
        {
          "output_type": "stream",
          "name": "stdout",
          "text": [
            "Model: \"sequential_22\"\n",
            "_________________________________________________________________\n",
            " Layer (type)                Output Shape              Param #   \n",
            "=================================================================\n",
            " lstm_48 (LSTM)              (None, 1, 100)            50000     \n",
            "                                                                 \n",
            " dropout_66 (Dropout)        (None, 1, 100)            0         \n",
            "                                                                 \n",
            " lstm_49 (LSTM)              (None, 1, 80)             57920     \n",
            "                                                                 \n",
            " dropout_67 (Dropout)        (None, 1, 80)             0         \n",
            "                                                                 \n",
            " lstm_50 (LSTM)              (None, 1, 50)             26200     \n",
            "                                                                 \n",
            " dropout_68 (Dropout)        (None, 1, 50)             0         \n",
            "                                                                 \n",
            " lstm_51 (LSTM)              (None, 30)                9720      \n",
            "                                                                 \n",
            " dense_22 (Dense)            (None, 1)                 31        \n",
            "                                                                 \n",
            "=================================================================\n",
            "Total params: 143,871\n",
            "Trainable params: 143,871\n",
            "Non-trainable params: 0\n",
            "_________________________________________________________________\n"
          ]
        }
      ]
    },
    {
      "cell_type": "code",
      "source": [
        "model.compile(loss = 'MSE', optimizer = 'adam')\n",
        "model.fit(X_train, y_train, epochs=15, batch_size=50)"
      ],
      "metadata": {
        "colab": {
          "base_uri": "https://localhost:8080/"
        },
        "id": "8SdZ1jNjvwlH",
        "outputId": "1e275fa4-21b3-4238-cbf5-ecbeba648222"
      },
      "execution_count": null,
      "outputs": [
        {
          "output_type": "stream",
          "name": "stdout",
          "text": [
            "Epoch 1/15\n",
            "642/642 [==============================] - 11s 10ms/step - loss: 0.0315\n",
            "Epoch 2/15\n",
            "642/642 [==============================] - 6s 10ms/step - loss: 0.0030\n",
            "Epoch 3/15\n",
            "642/642 [==============================] - 11s 18ms/step - loss: 0.0018\n",
            "Epoch 4/15\n",
            "642/642 [==============================] - 12s 18ms/step - loss: 0.0013\n",
            "Epoch 5/15\n",
            "642/642 [==============================] - 6s 10ms/step - loss: 0.0011\n",
            "Epoch 6/15\n",
            "642/642 [==============================] - 9s 14ms/step - loss: 8.9128e-04\n",
            "Epoch 7/15\n",
            "642/642 [==============================] - 7s 12ms/step - loss: 8.1695e-04\n",
            "Epoch 8/15\n",
            "642/642 [==============================] - 7s 11ms/step - loss: 7.1030e-04\n",
            "Epoch 9/15\n",
            "642/642 [==============================] - 6s 9ms/step - loss: 6.2031e-04\n",
            "Epoch 10/15\n",
            "642/642 [==============================] - 6s 9ms/step - loss: 5.7301e-04\n",
            "Epoch 11/15\n",
            "642/642 [==============================] - 6s 9ms/step - loss: 5.4038e-04\n",
            "Epoch 12/15\n",
            "642/642 [==============================] - 6s 9ms/step - loss: 4.8888e-04\n",
            "Epoch 13/15\n",
            "642/642 [==============================] - 6s 9ms/step - loss: 4.7051e-04\n",
            "Epoch 14/15\n",
            "642/642 [==============================] - 6s 10ms/step - loss: 4.4466e-04\n",
            "Epoch 15/15\n",
            "642/642 [==============================] - 6s 10ms/step - loss: 4.2911e-04\n"
          ]
        },
        {
          "output_type": "execute_result",
          "data": {
            "text/plain": [
              "<keras.callbacks.History at 0x7ff66444b8b0>"
            ]
          },
          "metadata": {},
          "execution_count": 463
        }
      ]
    },
    {
      "cell_type": "code",
      "source": [
        "lstm_pred = model.predict(X_test)"
      ],
      "metadata": {
        "colab": {
          "base_uri": "https://localhost:8080/"
        },
        "id": "yN1dtFgiv2-Y",
        "outputId": "23f56abc-e291-4f7a-f094-1a9ce0c41aa9"
      },
      "execution_count": null,
      "outputs": [
        {
          "output_type": "stream",
          "name": "stdout",
          "text": [
            "251/251 [==============================] - 1s 3ms/step\n"
          ]
        }
      ]
    },
    {
      "cell_type": "code",
      "source": [
        "score=r2_score(y_test,lstm_pred)\n",
        "print(score)"
      ],
      "metadata": {
        "colab": {
          "base_uri": "https://localhost:8080/"
        },
        "id": "G_9XVR9oDc3a",
        "outputId": "40868fc8-0d4f-4752-be7d-daf3c804c7ff"
      },
      "execution_count": null,
      "outputs": [
        {
          "output_type": "stream",
          "name": "stdout",
          "text": [
            "0.962933733291537\n"
          ]
        }
      ]
    },
    {
      "cell_type": "code",
      "source": [
        "mse_lstm=round(mean_squared_error(y_test,lstm_pred),4)\n",
        "rmse_lstm=round(np.sqrt(mse_lstm),4)\n",
        "mae_lstm =round(mae(y_test,lstm_pred),4)\n",
        "print(\"Mean Squared Error for LSTM model: \",mse_lstm)\n",
        "print(\"Root Mean Squared Error for LSTM model: \",rmse_lstm)\n",
        "print(\"Mean Absolute Error for LSTM model: \",mae_lstm)"
      ],
      "metadata": {
        "colab": {
          "base_uri": "https://localhost:8080/"
        },
        "id": "iQ28zIP2DdpQ",
        "outputId": "f2976e8a-c48b-4565-e4ad-3fcf3408df06"
      },
      "execution_count": null,
      "outputs": [
        {
          "output_type": "stream",
          "name": "stdout",
          "text": [
            "Mean Squared Error for LSTM model:  0.0004\n",
            "Root Mean Squared Error for LSTM model:  0.02\n",
            "Mean Absolute Error for LSTM model:  0.0148\n"
          ]
        }
      ]
    },
    {
      "cell_type": "code",
      "source": [
        "y_pred = scaler.inverse_transform(lstm_pred)\n",
        "y_test = y_test.reshape(-1, 1)\n",
        "y_test = scaler.inverse_transform(y_test)"
      ],
      "metadata": {
        "id": "8VlEQMU9wAKz"
      },
      "execution_count": null,
      "outputs": []
    },
    {
      "cell_type": "code",
      "source": [
        "plt.plot(y_test, label = 'real Demand')\n",
        "plt.plot(y_pred, label = 'predicted Demand')\n",
        "plt.xlabel('Hour')\n",
        "plt.ylabel('Demand')\n",
        "plt.legend()\n",
        "plt.show()"
      ],
      "metadata": {
        "colab": {
          "base_uri": "https://localhost:8080/",
          "height": 282
        },
        "id": "HQ_RYifjwA_O",
        "outputId": "46ef0e34-3286-448c-e901-59600877c780"
      },
      "execution_count": null,
      "outputs": [
        {
          "output_type": "display_data",
          "data": {
            "text/plain": [
              "<Figure size 432x288 with 1 Axes>"
            ],
            "image/png": "[encoded data removed]"
          },
          "metadata": {
            "needs_background": "light"
          }
        }
      ]
    },
    {
      "cell_type": "markdown",
      "source": [
        "# **RNN Model**"
      ],
      "metadata": {
        "id": "YPOVn6qP60xW"
      }
    },
    {
      "cell_type": "code",
      "source": [
        "rnnmodel = Sequential()\n",
        "rnnmodel.add(SimpleRNN(40, activation='tanh', return_sequences = True, input_shape=(1,steps)))\n",
        "rnnmodel.add(Dropout(0.15))\n",
        "rnnmodel.add(SimpleRNN(50, activation='tanh', return_sequences = True))\n",
        "rnnmodel.add(Dropout(0.1))\n",
        "rnnmodel.add(SimpleRNN(10, activation='tanh'))\n",
        "rnnmodel.add(Dropout(0.2))\n",
        "rnnmodel.add(Dense(1))\n",
        "rnnmodel.summary()"
      ],
      "metadata": {
        "colab": {
          "base_uri": "https://localhost:8080/"
        },
        "id": "ya2YSprGwb_i",
        "outputId": "4afccb27-8aef-4cf1-f6a8-877f0018bfc4"
      },
      "execution_count": null,
      "outputs": [
        {
          "output_type": "stream",
          "name": "stdout",
          "text": [
            "Model: \"sequential_23\"\n",
            "_________________________________________________________________\n",
            " Layer (type)                Output Shape              Param #   \n",
            "=================================================================\n",
            " simple_rnn_30 (SimpleRNN)   (None, 1, 40)             2600      \n",
            "                                                                 \n",
            " dropout_69 (Dropout)        (None, 1, 40)             0         \n",
            "                                                                 \n",
            " simple_rnn_31 (SimpleRNN)   (None, 1, 50)             4550      \n",
            "                                                                 \n",
            " dropout_70 (Dropout)        (None, 1, 50)             0         \n",
            "                                                                 \n",
            " simple_rnn_32 (SimpleRNN)   (None, 10)                610       \n",
            "                                                                 \n",
            " dropout_71 (Dropout)        (None, 10)                0         \n",
            "                                                                 \n",
            " dense_23 (Dense)            (None, 1)                 11        \n",
            "                                                                 \n",
            "=================================================================\n",
            "Total params: 7,771\n",
            "Trainable params: 7,771\n",
            "Non-trainable params: 0\n",
            "_________________________________________________________________\n"
          ]
        }
      ]
    },
    {
      "cell_type": "code",
      "source": [
        "rnnmodel.compile(optimizer=\"adam\",loss=\"MSE\")\n",
        "rnnmodel.fit(X_train,y_train,epochs=15,batch_size=50)"
      ],
      "metadata": {
        "colab": {
          "base_uri": "https://localhost:8080/"
        },
        "id": "OwVqQEy71i9o",
        "outputId": "56214ab3-a4e5-43da-eee6-ca367f304fb1"
      },
      "execution_count": null,
      "outputs": [
        {
          "output_type": "stream",
          "name": "stdout",
          "text": [
            "Epoch 1/15\n",
            "642/642 [==============================] - 5s 4ms/step - loss: 0.0380\n",
            "Epoch 2/15\n",
            "642/642 [==============================] - 3s 5ms/step - loss: 0.0081\n",
            "Epoch 3/15\n",
            "642/642 [==============================] - 3s 4ms/step - loss: 0.0039\n",
            "Epoch 4/15\n",
            "642/642 [==============================] - 3s 4ms/step - loss: 0.0021\n",
            "Epoch 5/15\n",
            "642/642 [==============================] - 3s 4ms/step - loss: 0.0015\n",
            "Epoch 6/15\n",
            "642/642 [==============================] - 2s 4ms/step - loss: 0.0012\n",
            "Epoch 7/15\n",
            "642/642 [==============================] - 2s 4ms/step - loss: 0.0011\n",
            "Epoch 8/15\n",
            "642/642 [==============================] - 4s 6ms/step - loss: 0.0010\n",
            "Epoch 9/15\n",
            "642/642 [==============================] - 3s 4ms/step - loss: 9.6477e-04\n",
            "Epoch 10/15\n",
            "642/642 [==============================] - 2s 4ms/step - loss: 9.2154e-04\n",
            "Epoch 11/15\n",
            "642/642 [==============================] - 2s 4ms/step - loss: 8.7728e-04\n",
            "Epoch 12/15\n",
            "642/642 [==============================] - 2s 4ms/step - loss: 8.7984e-04\n",
            "Epoch 13/15\n",
            "642/642 [==============================] - 3s 4ms/step - loss: 8.4114e-04\n",
            "Epoch 14/15\n",
            "642/642 [==============================] - 3s 4ms/step - loss: 8.1648e-04\n",
            "Epoch 15/15\n",
            "642/642 [==============================] - 3s 4ms/step - loss: 8.1837e-04\n"
          ]
        },
        {
          "output_type": "execute_result",
          "data": {
            "text/plain": [
              "<keras.callbacks.History at 0x7ff660b93dc0>"
            ]
          },
          "metadata": {},
          "execution_count": 468
        }
      ]
    },
    {
      "cell_type": "code",
      "source": [
        "rnnpredict = rnnmodel.predict(X_test)\n",
        "rnnscore=r2_score(y_test,rnnpredict)\n",
        "print(\"R2 score for RNN: \",rnnscore)"
      ],
      "metadata": {
        "colab": {
          "base_uri": "https://localhost:8080/"
        },
        "id": "HaRlYQHX20FQ",
        "outputId": "4f9fabc3-d963-4ad9-9ac3-31247ba1879e"
      },
      "execution_count": null,
      "outputs": [
        {
          "output_type": "stream",
          "name": "stdout",
          "text": [
            "251/251 [==============================] - 1s 2ms/step\n",
            "R2 score for RNN:  0.9802034546964683\n"
          ]
        }
      ]
    },
    {
      "cell_type": "code",
      "source": [
        "mse_rnn=round(mean_squared_error(y_test,rnnpredict),4)\n",
        "rmse_rnn=round(np.sqrt(mse_rnn),4)\n",
        "mae_rnn =round(mae(y_test,rnnpredict),4)\n",
        "print(\"Mean Squared Error for RNN model: \",mse_rnn)\n",
        "print(\"Root Mean Squared Error for RNN model: \",rmse_rnn)\n",
        "print(\"Mean Absolute Error for RNN model: \",mae_rnn)\n",
        "\n"
      ],
      "metadata": {
        "colab": {
          "base_uri": "https://localhost:8080/"
        },
        "id": "P4X4Cpp037wY",
        "outputId": "67677c6e-caf0-433b-b37d-89745241cbf2"
      },
      "execution_count": null,
      "outputs": [
        {
          "output_type": "stream",
          "name": "stdout",
          "text": [
            "Mean Squared Error for RNN model:  0.0002\n",
            "Root Mean Squared Error for RNN model:  0.0141\n",
            "Mean Absolute Error for RNN model:  0.0117\n"
          ]
        }
      ]
    },
    {
      "cell_type": "code",
      "source": [
        "rnn_pred = scaler.inverse_transform(rnnpredict)\n"
      ],
      "metadata": {
        "id": "SmhFCkETPDCi"
      },
      "execution_count": null,
      "outputs": []
    },
    {
      "cell_type": "code",
      "source": [
        "plt.plot(y_test, label = 'real Demand')\n",
        "plt.plot(rnn_pred, label = 'predicted Demand')\n",
        "plt.xlabel('Hour')\n",
        "plt.ylabel('Demand')\n",
        "plt.legend()\n",
        "plt.show()"
      ],
      "metadata": {
        "colab": {
          "base_uri": "https://localhost:8080/",
          "height": 282
        },
        "id": "90B6JmSAO9U3",
        "outputId": "7ead098c-77ed-4970-a548-5561e04204ff"
      },
      "execution_count": null,
      "outputs": [
        {
          "output_type": "display_data",
          "data": {
            "text/plain": [
              "<Figure size 432x288 with 1 Axes>"
            ],
            "image/png": "[encoded data removed]"
          },
          "metadata": {
            "needs_background": "light"
          }
        }
      ]
    }
  ]
}